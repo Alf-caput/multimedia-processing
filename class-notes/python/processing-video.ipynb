{
 "cells": [
  {
   "cell_type": "code",
   "execution_count": null,
   "metadata": {},
   "outputs": [],
   "source": [
    "import cv2\n",
    "\n",
    "cap = cv2.VideoCapture('videos/highway_resized.mp4')\n",
    "\n",
    "background_eraser = cv2.createBackgroundSubtractorMOG2(history=10)\n",
    "\n",
    "count_car = 0\n",
    "while True:\n",
    "    ret, frame = cap.read()\n",
    "    \n",
    "    if not ret:\n",
    "        break\n",
    "    \n",
    "    framebw = cv2.threshold(frame, 127, 255, cv2.THRESH_BINARY)[1]\n",
    "    brush = cv2.getStructuringElement(cv2.MORPH_ELLIPSE, (5, 5))\n",
    "    close = cv2.morphologyEx(frame, cv2.MORPH_CLOSE, brush)\n",
    "    blackhat = close - frame\n",
    "    frameSB = background_eraser.apply(frame)\n",
    "    close_frameSB = cv2.morphologyEx(frameSB, cv2.MORPH_CLOSE, brush)\n",
    "    open_close_frameSB = cv2.morphologyEx(close_frameSB, cv2.MORPH_OPEN, brush)\n",
    "    contours, _ = cv2.findContours(open_close_frameSB, cv2.RETR_EXTERNAL, cv2.CHAIN_APPROX_NONE)\n",
    "\n",
    "    for contour in contours:\n",
    "        area = cv2.contourArea(contour)\n",
    "        if area > 250:\n",
    "            count_car += 1\n",
    "            cv2.drawContours(frame, [contour], -1, (0, 0, 255), 2)\n",
    "\n",
    "    cv2.putText(frame, f'Car Count: {count_car}', (10, 50), cv2.FONT_HERSHEY_SIMPLEX, 1, (0, 0, 255), 2)\n",
    "    cv2.imshow(\"transformation\", open_close_frameSB)\n",
    "\n",
    "    cv2.imshow('frame', frame)\n",
    "    \n",
    "    if cv2.waitKey(1) & 0xFF == ord('q'):\n",
    "        break\n",
    "\n",
    "\n",
    "cap.release()\n",
    "cv2.destroyAllWindows()\n"
   ]
  },
  {
   "cell_type": "code",
   "execution_count": 43,
   "metadata": {},
   "outputs": [
    {
     "name": "stdout",
     "output_type": "stream",
     "text": [
      "640.0 360.0\n"
     ]
    }
   ],
   "source": [
    "import cv2\n",
    "\n",
    "cap = cv2.VideoCapture('videos/highway_resized.mp4')\n",
    "print(cap.get(cv2.CAP_PROP_FRAME_WIDTH), cap.get(cv2.CAP_PROP_FRAME_HEIGHT))\n",
    "background_eraser = cv2.createBackgroundSubtractorMOG2(history=10)\n",
    "\n",
    "count_car = 0\n",
    "while True:\n",
    "    ret, frame = cap.read()\n",
    "    \n",
    "    if not ret:\n",
    "        break\n",
    "    \n",
    "    framebw = cv2.threshold(frame, 127, 255, cv2.THRESH_BINARY)[1]\n",
    "    brush = cv2.getStructuringElement(cv2.MORPH_ELLIPSE, (5, 5))\n",
    "    close = cv2.morphologyEx(frame, cv2.MORPH_CLOSE, brush)\n",
    "    blackhat = close - frame\n",
    "    frameSB = background_eraser.apply(frame)\n",
    "    close_frameSB = cv2.morphologyEx(frameSB, cv2.MORPH_CLOSE, brush)\n",
    "    open_close_frameSB = cv2.morphologyEx(close_frameSB, cv2.MORPH_OPEN, brush)\n",
    "    contours, _ = cv2.findContours(open_close_frameSB, cv2.RETR_EXTERNAL, cv2.CHAIN_APPROX_NONE)\n",
    "\n",
    "    for contour in contours:\n",
    "        area = cv2.contourArea(contour)\n",
    "        if area > 250:\n",
    "            x, y, w, h = cv2.boundingRect(contour)\n",
    "            cx = int((x+w)/2)\n",
    "            cy = int((y+h)/2)\n",
    "            if cy > 160 and cy < 200 and cx > 160:\n",
    "                count_car += 1\n",
    "                cv2.drawContours(frame, [contour], -1, (0, 0, 255), 2)\n",
    "\n",
    "    cv2.putText(frame, f'Car Count: {count_car}', (10, 50), cv2.FONT_HERSHEY_SIMPLEX, 1, (0, 0, 255), 2)\n",
    "    cv2.imshow(\"transformation\", open_close_frameSB)\n",
    "\n",
    "    cv2.imshow('frame', frame)\n",
    "    \n",
    "    if cv2.waitKey(1) & 0xFF == ord('q'):\n",
    "        break\n",
    "\n",
    "\n",
    "cap.release()\n",
    "cv2.destroyAllWindows()\n"
   ]
  },
  {
   "cell_type": "code",
   "execution_count": null,
   "metadata": {},
   "outputs": [],
   "source": []
  }
 ],
 "metadata": {
  "kernelspec": {
   "display_name": ".venv",
   "language": "python",
   "name": "python3"
  },
  "language_info": {
   "codemirror_mode": {
    "name": "ipython",
    "version": 3
   },
   "file_extension": ".py",
   "mimetype": "text/x-python",
   "name": "python",
   "nbconvert_exporter": "python",
   "pygments_lexer": "ipython3",
   "version": "3.12.3"
  }
 },
 "nbformat": 4,
 "nbformat_minor": 2
}
